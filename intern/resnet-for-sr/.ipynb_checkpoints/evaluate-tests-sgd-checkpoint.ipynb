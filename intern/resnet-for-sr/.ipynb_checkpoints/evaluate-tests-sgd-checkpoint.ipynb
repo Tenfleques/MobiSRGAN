{
 "cells": [
  {
   "cell_type": "code",
   "execution_count": 1,
   "metadata": {},
   "outputs": [
    {
     "name": "stdout",
     "output_type": "stream",
     "text": [
      "Collecting pip\n",
      "  Downloading http://repo.myhuaweicloud.com/repository/pypi/packages/00/b6/9cfa56b4081ad13874b0c6f96af8ce16cfbc1cb06bedf8e9164ce5551ec1/pip-19.3.1-py2.py3-none-any.whl (1.4MB)\n",
      "\u001b[K    100% |████████████████████████████████| 1.4MB 100.3MB/s a 0:00:011\n",
      "\u001b[?25hInstalling collected packages: pip\n",
      "  Found existing installation: pip 9.0.1\n",
      "    Uninstalling pip-9.0.1:\n",
      "      Successfully uninstalled pip-9.0.1\n",
      "Successfully installed pip-19.3.1\n"
     ]
    }
   ],
   "source": [
    "!pip install --upgrade pip"
   ]
  },
  {
   "cell_type": "code",
   "execution_count": 2,
   "metadata": {
    "scrolled": true
   },
   "outputs": [
    {
     "name": "stdout",
     "output_type": "stream",
     "text": [
      "Looking in indexes: http://repo.myhuaweicloud.com/repository/pypi/simple\n",
      "Collecting Numpy>=1.15.4\n",
      "\u001b[?25l  Downloading http://repo.myhuaweicloud.com/repository/pypi/packages/92/e6/45f71bd24f4e37629e9db5fb75caab919507deae6a5a257f9e4685a5f931/numpy-1.18.0-cp36-cp36m-manylinux1_x86_64.whl (20.1MB)\n",
      "\u001b[K     |████████████████████████████████| 20.1MB 30.2MB/s eta 0:00:01                     | 3.5MB 30.2MB/s eta 0:00:01| 7.4MB 30.2MB/s eta 0:00:01          | 12.2MB 30.2MB/s eta 0:00:01████▍       | 15.3MB 30.2MB/s eta 0:00:01\n",
      "\u001b[?25hCollecting Pillow>=5.4.1\n",
      "\u001b[?25l  Downloading http://repo.myhuaweicloud.com/repository/pypi/packages/10/5c/0e94e689de2476c4c5e644a3bd223a1c1b9e2bdb7c510191750be74fa786/Pillow-6.2.1-cp36-cp36m-manylinux1_x86_64.whl (2.1MB)\n",
      "\u001b[K     |████████████████████████████████| 2.1MB 74.9MB/s eta 0:00:01\n",
      "\u001b[?25hCollecting h5py>=2.8.0\n",
      "\u001b[?25l  Downloading http://repo.myhuaweicloud.com/repository/pypi/packages/60/06/cafdd44889200e5438b897388f3075b52a8ef01f28a17366d91de0fa2d05/h5py-2.10.0-cp36-cp36m-manylinux1_x86_64.whl (2.9MB)\n",
      "\u001b[K     |████████████████████████████████| 2.9MB 24.5MB/s eta 0:00:01\n",
      "\u001b[?25hCollecting tqdm>=4.30.0\n",
      "\u001b[?25l  Downloading http://repo.myhuaweicloud.com/repository/pypi/packages/8c/c3/d049cf3fb31094ee045ec1ee29fffac218c91e82c8838c49ab4c3e52627b/tqdm-4.41.0-py2.py3-none-any.whl (56kB)\n",
      "\u001b[K     |████████████████████████████████| 61kB 71.1MB/s eta 0:00:01\n",
      "\u001b[?25hRequirement already satisfied: six in /home/ma-user/anaconda3/lib/python3.6/site-packages (from h5py>=2.8.0->-r ../requirements.txt (line 3)) (1.13.0)\n",
      "Installing collected packages: Numpy, Pillow, h5py, tqdm\n",
      "  Found existing installation: numpy 1.14.0\n",
      "    Uninstalling numpy-1.14.0:\n",
      "      Successfully uninstalled numpy-1.14.0\n",
      "  Found existing installation: Pillow 5.0.0\n",
      "    Uninstalling Pillow-5.0.0:\n",
      "      Successfully uninstalled Pillow-5.0.0\n",
      "  Found existing installation: h5py 2.7.1\n",
      "    Uninstalling h5py-2.7.1:\n",
      "      Successfully uninstalled h5py-2.7.1\n",
      "Successfully installed Numpy-1.18.0 Pillow-6.2.1 h5py-2.10.0 tqdm-4.41.0\n"
     ]
    }
   ],
   "source": [
    "!pip install -r ../requirements.txt"
   ]
  },
  {
   "cell_type": "code",
   "execution_count": 3,
   "metadata": {},
   "outputs": [
    {
     "name": "stdout",
     "output_type": "stream",
     "text": [
      "Looking in indexes: http://repo.myhuaweicloud.com/repository/pypi/simple\n",
      "Collecting torch\n",
      "\u001b[?25l  Downloading http://repo.myhuaweicloud.com/repository/pypi/packages/88/95/90e8c4c31cfc67248bf944ba42029295b77159982f532c5689bcfe4e9108/torch-1.3.1-cp36-cp36m-manylinux1_x86_64.whl (734.6MB)\n",
      "\u001b[K     |████████████████████████████████| 734.6MB 90.7MB/s eta 0:00:01/s eta 0:00:11    | 7.6MB 71.7MB/s eta 0:00:11               | 12.0MB 71.7MB/s eta 0:00:11B/s eta 0:00:11               | 20.4MB 71.7MB/s eta 0:00:10               | 25.4MB 71.7MB/s eta 0:00:10                     | 29.3MB 71.7MB/s eta 0:00:10                     | 33.8MB 71.7MB/s eta 0:00:10                     | 38.4MB 71.7MB/s eta 0:00:10                     | 42.3MB 71.7MB/s eta 0:00:10                     | 47.1MB 71.7MB/s eta 0:00:1010101010100:10                         | 78.4MB 71.7MB/s eta 0:00:10�                            | 82.6MB 63.6MB/s eta 0:00:11                         | 87.8MB 63.6MB/s eta 0:00:11                         | 92.1MB 63.6MB/s eta 0:00:11.1MB 63.6MB/s eta 0:00:11                     | 99.7MB 63.6MB/s eta 0:00:10      | 103.2MB 63.6MB/s eta 0:00:10��██▋                           | 107.1MB 63.6MB/s eta 0:00:10.6MB/s eta 0:00:10B 63.6MB/s eta 0:00:10MB/s eta 0:00:10  | 124.1MB 63.6MB/s eta 0:00:10                  | 129.0MB 63.6MB/s eta 0:00:10MB/s eta 0:00:10MB/s eta 0:00:10    |██████▏                         | 141.7MB 691kB/s eta 0:14:18��██▍                         | 145.7MB 691kB/s eta 0:14:12           | 148.9MB 691kB/s eta 0:14:08B/s eta 0:14:02    |██████▉                         | 156.8MB 691kB/s eta 0:13:56           | 161.6MB 691kB/s eta 0:13:49471520:14                  | 190.7MB 691kB/s eta 0:13:07                  | 194.5MB 691kB/s eta 0:13:02                  | 198.3MB 691kB/s eta 0:12:56��████▉                       | 203.0MB 30.0MB/s eta 0:00:18�██                       | 206.1MB 30.0MB/s eta 0:00:18��█████▏                      | 209.9MB 30.0MB/s eta 0:00:18��█████▎                      | 213.7MB 30.0MB/s eta 0:00:18                  | 217.6MB 30.0MB/s eta 0:00:180:182MB 30.0MB/s eta 0:00:173MB 30.0MB/s eta 0:00:17��████▏                     | 233.6MB 30.0MB/s eta 0:00:17MB/s eta 0:00:17��████▌                     | 241.3MB 30.0MB/s eta 0:00:17            | 245.2MB 30.0MB/s eta 0:00:17MB/s eta 0:00:17MB/s eta 0:00:17   |███████████▏                    | 256.7MB 30.0MB/s eta 0:00:16MB/s eta 0:00:16  | 267.9MB 30.0MB/s eta 0:00:16MB/s eta 0:00:11                | 279.5MB 45.3MB/s eta 0:00:11██▎                   | 283.1MB 45.3MB/s eta 0:00:10██▌                   | 286.6MB 45.3MB/s eta 0:00:10.3MB/s eta 0:00:10      | 294.8MB 45.3MB/s eta 0:00:10███                   | 298.0MB 45.3MB/s eta 0:00:10          | 325.6MB 45.3MB/s eta 0:00:10          | 329.5MB 45.3MB/s eta 0:00:09��██▌                 | 332.9MB 45.3MB/s eta 0:00:09          | 336.5MB 92.9MB/s eta 0:00:05.9MB/s eta 0:00:05�██████████▏                | 347.1MB 92.9MB/s eta 0:00:05�██████████▏                | 349.0MB 92.9MB/s eta 0:00:05 0:00:05�██████████▍                | 354.2MB 92.9MB/s eta 0:00:05�██████████▋                | 357.3MB 92.9MB/s eta 0:00:05�██████████▊                | 360.5MB 92.9MB/s eta 0:00:05  | 362.1MB 92.9MB/s eta 0:00:05�███████████                | 365.3MB 92.9MB/s eta 0:00:04�███████████                | 368.4MB 16.5MB/s eta 0:00:23            | 371.3MB 16.5MB/s eta 0:00:23377.1MB 16.5MB/s eta 0:00:22/s eta 0:00:22            | 384.1MB 16.5MB/s eta 0:00:22/s eta 0:00:22/s eta 0:00:21��█▏              | 394.1MB 16.5MB/s eta 0:00:21     |█████████████████▎              | 396.9MB 16.5MB/s eta 0:00:21��█▍              | 400.3MB 16.5MB/s eta 0:00:21     |█████████████████▋              | 403.4MB 16.5MB/s eta 0:00:21��█▉              | 410.0MB 16.5MB/s eta 0:00:20��██              | 413.3MB 16.5MB/s eta 0:00:20��██████████████▏             | 416.2MB 16.5MB/s eta 0:00:20████████▎             | 419.8MB 16.5MB/s eta 0:00:20�███████████▌             | 423.8MB 16.5MB/s eta 0:00:19████████▋             | 426.3MB 16.5MB/s eta 0:00:19�█▊             | 429.1MB 68.0MB/s eta 0:00:05��██████████████▉             | 432.0MB 68.0MB/s eta 0:00:05��███████████████             | 438.1MB 68.0MB/s eta 0:00:05  | 440.9MB 68.0MB/s eta 0:00:05�██████▍            | 444.0MB 68.0MB/s eta 0:00:05█▌            | 447.6MB 68.0MB/s eta 0:00:05MB/s eta 0:00:05MB/s eta 0:00:05MB/s eta 0:00:05  | 460.3MB 68.0MB/s eta 0:00:05��██▏           | 463.6MB 68.0MB/s eta 0:00:04��██▌           | 469.5MB 68.0MB/s eta 0:00:04████████████████████▋           | 472.0MB 68.0MB/s eta 0:00:04��██▊           | 475.7MB 68.0MB/s eta 0:00:04��██▉           | 478.9MB 15.4MB/s eta 0:00:17█████████████████████           | 482.2MB 15.4MB/s eta 0:00:17███████████████▏          | 485.9MB 15.4MB/s eta 0:00:17███████████████▎          | 488.8MB 15.4MB/s eta 0:00:16  | 491.7MB 15.4MB/s eta 0:00:16███████████████▋          | 494.8MB 15.4MB/s eta 0:00:16��█████▊          | 498.3MB 15.4MB/s eta 0:00:16��█████▉          | 501.2MB 15.4MB/s eta 0:00:16   |██████████████████████▏         | 507.7MB 15.4MB/s eta 0:00:15 eta 0:00:15:00:15 eta 0:00:15:00:15| 522.0MB 92.0MB/s eta 0:00:03:00:03:00:03█████████████▏        | 532.6MB 92.0MB/s eta 0:00:03��        | 535.5MB 92.0MB/s eta 0:00:03█████████████▌        | 538.8MB 92.0MB/s eta 0:00:03��        | 542.0MB 92.0MB/s eta 0:00:03█████████████▊        | 544.7MB 92.0MB/s eta 0:00:03��        | 547.7MB 92.0MB/s eta 0:00:03██████████████        | 550.0MB 92.0MB/s eta 0:00:030MB 143kB/s eta 0:21:16| 553.5MB 143kB/s eta 0:20:58██████▌       | 562.5MB 143kB/s eta 0:19:56██████▋       | 565.0MB 143kB/s eta 0:19:38██████▊       | 567.5MB 143kB/s eta 0:19:21██████▉       | 570.7MB 143kB/s eta 0:18:59��█████████████████▏      | 578.9MB 143kB/s eta 0:18:02��█████████████████▍      | 581.6MB 143kB/s eta 0:17:44��█████████████████▌      | 584.8MB 143kB/s eta 0:17:21��█████████████████▋      | 588.2MB 143kB/s eta 0:16:58��█████████████████▊      | 590.5MB 893kB/s eta 0:02:42    |█████████████████████████▉      | 593.3MB 893kB/s eta 0:02:39████████      | 596.7MB 893kB/s eta 0:02:35██████▏     | 599.7MB 893kB/s eta 0:02:31�█████████▏    | 623.3MB 893kB/s eta 0:02:05   | 626.5MB 893kB/s eta 0:02:02   | 629.6MB 893kB/s eta 0:01:58�█████████▌    | 631.6MB 893kB/s eta 0:01:56██████████▋    | 634.0MB 893kB/s eta 0:01:531�█████████▉    | 638.6MB 9.5MB/s eta 0:00:11   | 642.1MB 9.5MB/s eta 0:00:10█████████████████████    | 645.1MB 9.5MB/s eta 0:00:10��███████▎   | 647.9MB 9.5MB/s eta 0:00:10�████████▌   | 653.3MB 9.5MB/s eta 0:00:09     |████████████████████████████▋   | 655.7MB 9.5MB/s eta 0:00:09�████████▊   | 658.9MB 9.5MB/s eta 0:00:08��███████▉   | 661.4MB 9.5MB/s eta 0:00:08�█████████   | 664.4MB 9.5MB/s eta 0:00:08    |█████████████████████████████   | 667.5MB 9.5MB/s eta 0:00:08█████████▏  | 670.5MB 9.5MB/s eta 0:00:07��████████████████████▌  | 676.2MB 9.5MB/s eta 0:00:07█████████▋  | 678.9MB 9.5MB/s eta 0:00:06��████████████████████▉  | 684.3MB 9.5MB/s eta 0:00:06��██████████████████  | 686.9MB 9.5MB/s eta 0:00:06████████████████████  | 690.2MB 29.8MB/s eta 0:00:0229.8MB/s eta 0:00:02ta 0:00:0229.8MB/s eta 0:00:02ta 0:00:0229.8MB/s eta 0:00:02ta 0:00:01ta 0:00:0129.8MB/s eta 0:00:012MB 29.8MB/s eta 0:00:01��███████████████▏| 716.3MB 29.8MB/s eta 0:00:01��███████████████▎| 719.2MB 29.8MB/s eta 0:00:01█████████████████████████████▍| 721.3MB 29.8MB/s eta 0:00:01��███████████████▌| 724.1MB 90.7MB/s eta 0:00:01�██▊| 727.3MB 90.7MB/s eta 0:00:01�██▉| 729.8MB 90.7MB/s eta 0:00:01�███| 732.3MB 90.7MB/s eta 0:00:01�███| 734.5MB 90.7MB/s eta 0:00:01\n",
      "\u001b[?25hRequirement already satisfied: numpy in /home/ma-user/anaconda3/lib/python3.6/site-packages (from torch) (1.18.0)\n",
      "Installing collected packages: torch\n",
      "Successfully installed torch-1.3.1\n"
     ]
    }
   ],
   "source": [
    "!pip install torch"
   ]
  },
  {
   "cell_type": "code",
   "execution_count": 1,
   "metadata": {},
   "outputs": [],
   "source": [
    "import torch\n",
    "import torch.backends.cudnn as cudnn\n",
    "import numpy as np\n",
    "import PIL.Image as pil_image\n",
    "\n",
    "from models import RDN\n",
    "\n",
    "import pandas as pd\n",
    "import os\n",
    "\n",
    "from utils import convert_rgb_to_y, denormalize, calc_psnr"
   ]
  },
  {
   "cell_type": "code",
   "execution_count": 5,
   "metadata": {},
   "outputs": [],
   "source": [
    "def test(weights_file, image_file, num_features=64, growth_rate=64, num_blocks=16, num_layers=8, scale=4):\n",
    "    cudnn.benchmark = True\n",
    "    device = torch.device('cuda:0' if torch.cuda.is_available() else 'cpu')\n",
    "\n",
    "    model = RDN(scale_factor=scale,\n",
    "                num_channels=3,\n",
    "                num_features=num_features,\n",
    "                growth_rate=growth_rate,\n",
    "                num_blocks=num_blocks,\n",
    "                num_layers=num_layers).to(device)\n",
    "\n",
    "    state_dict = model.state_dict()\n",
    "    for n, p in torch.load(weights_file, map_location=lambda storage, loc: storage).items():\n",
    "        if n in state_dict.keys():\n",
    "            state_dict[n].copy_(p)\n",
    "        else:\n",
    "            raise KeyError(n)\n",
    "\n",
    "    model.eval()\n",
    "\n",
    "    image = pil_image.open(image_file).convert('RGB')\n",
    "\n",
    "    image_width = (image.width // scale) * scale\n",
    "    image_height = (image.height // scale) * scale\n",
    "\n",
    "    hr = image.resize((image_width, image_height), resample=pil_image.BICUBIC)\n",
    "    lr = hr.resize((hr.width // scale, hr.height // scale), resample=pil_image.BICUBIC)\n",
    "    bicubic = lr.resize((lr.width * scale, lr.height * scale), resample=pil_image.BICUBIC)\n",
    "    bicubic.save(image_file.replace('.png', '_bicubic_x{}.png'.format(scale)))\n",
    "\n",
    "    lr = np.expand_dims(np.array(lr).astype(np.float32).transpose([2, 0, 1]), 0) / 255.0\n",
    "    hr = np.expand_dims(np.array(hr).astype(np.float32).transpose([2, 0, 1]), 0) / 255.0\n",
    "    lr = torch.from_numpy(lr).to(device)\n",
    "    hr = torch.from_numpy(hr).to(device)\n",
    "\n",
    "    with torch.no_grad():\n",
    "        preds = model(lr).squeeze(0)\n",
    "\n",
    "    preds_y = convert_rgb_to_y(denormalize(preds), dim_order='chw')\n",
    "    hr_y = convert_rgb_to_y(denormalize(hr.squeeze(0)), dim_order='chw')\n",
    "\n",
    "    preds_y = preds_y[scale:-scale, scale:-scale]\n",
    "    hr_y = hr_y[scale:-scale, scale:-scale]\n",
    "\n",
    "    psnr = calc_psnr(hr_y, preds_y)\n",
    "#     print('PSNR: {:.2f}'.format(psnr))\n",
    "\n",
    "    output = pil_image.fromarray(denormalize(preds).permute(1, 2, 0).byte().cpu().numpy())\n",
    "    output.save(image_file.replace('.png', '_rdn_x{}.png'.format(scale)))\n",
    "    \n",
    "    return {\n",
    "        \"test_set\" : image_file.split(\"/\")[1],\n",
    "        \"psnr\" : psnr.item()\n",
    "    }"
   ]
  },
  {
   "cell_type": "code",
   "execution_count": 6,
   "metadata": {},
   "outputs": [],
   "source": [
    "models_dir = \"../rdn-results/outputs/x4/\"\n",
    "images_dir = [\"../BSDS100/\", \"../Set5/\", \"../Set14/\", \"../Urban100/\"]"
   ]
  },
  {
   "cell_type": "code",
   "execution_count": 7,
   "metadata": {},
   "outputs": [],
   "source": [
    "test_images = {}\n",
    "for test_dir in images_dir:\n",
    "    f = []\n",
    "    for (dirpath, dirnames, filenames) in os.walk(test_dir):\n",
    "        f.extend(filenames)\n",
    "        break\n",
    "    test_images[test_dir.split(\"/\")[1]] = f"
   ]
  },
  {
   "cell_type": "code",
   "execution_count": 8,
   "metadata": {},
   "outputs": [],
   "source": [
    "five_up = {}\n",
    "for i in test_images.keys():\n",
    "    five_up[i] = test_images[i][:5]"
   ]
  },
  {
   "cell_type": "code",
   "execution_count": 9,
   "metadata": {
    "scrolled": true
   },
   "outputs": [
    {
     "data": {
      "text/html": [
       "<div>\n",
       "<style scoped>\n",
       "    .dataframe tbody tr th:only-of-type {\n",
       "        vertical-align: middle;\n",
       "    }\n",
       "\n",
       "    .dataframe tbody tr th {\n",
       "        vertical-align: top;\n",
       "    }\n",
       "\n",
       "    .dataframe thead th {\n",
       "        text-align: right;\n",
       "    }\n",
       "</style>\n",
       "<table border=\"1\" class=\"dataframe\">\n",
       "  <thead>\n",
       "    <tr style=\"text-align: right;\">\n",
       "      <th></th>\n",
       "      <th>BSDS100</th>\n",
       "      <th>Set14</th>\n",
       "      <th>Set5</th>\n",
       "      <th>Urban100</th>\n",
       "    </tr>\n",
       "  </thead>\n",
       "  <tbody>\n",
       "    <tr>\n",
       "      <th>0</th>\n",
       "      <td>306005_bicubic_x4.png</td>\n",
       "      <td>barbara.png</td>\n",
       "      <td>bird_bicubic_x4.png</td>\n",
       "      <td>img_006.png</td>\n",
       "    </tr>\n",
       "    <tr>\n",
       "      <th>1</th>\n",
       "      <td>229036.png</td>\n",
       "      <td>comic.png</td>\n",
       "      <td>head_bicubic_x4.png</td>\n",
       "      <td>img_012_rdn_x4.png</td>\n",
       "    </tr>\n",
       "    <tr>\n",
       "      <th>2</th>\n",
       "      <td>43074_bicubic_x4.png</td>\n",
       "      <td>flowers_rdn_x4.png</td>\n",
       "      <td>bird.png</td>\n",
       "      <td>img_070_bicubic_x4.png</td>\n",
       "    </tr>\n",
       "    <tr>\n",
       "      <th>3</th>\n",
       "      <td>24077.png</td>\n",
       "      <td>zebra_bicubic_x4.png</td>\n",
       "      <td>baby_bicubic_x4.png</td>\n",
       "      <td>img_031_rdn_x4.png</td>\n",
       "    </tr>\n",
       "    <tr>\n",
       "      <th>4</th>\n",
       "      <td>38092_rdn_x4.png</td>\n",
       "      <td>foreman.png</td>\n",
       "      <td>woman_bicubic_x4.png</td>\n",
       "      <td>img_078.png</td>\n",
       "    </tr>\n",
       "  </tbody>\n",
       "</table>\n",
       "</div>"
      ],
      "text/plain": [
       "                 BSDS100                 Set14                  Set5  \\\n",
       "0  306005_bicubic_x4.png           barbara.png   bird_bicubic_x4.png   \n",
       "1             229036.png             comic.png   head_bicubic_x4.png   \n",
       "2   43074_bicubic_x4.png    flowers_rdn_x4.png              bird.png   \n",
       "3              24077.png  zebra_bicubic_x4.png   baby_bicubic_x4.png   \n",
       "4       38092_rdn_x4.png           foreman.png  woman_bicubic_x4.png   \n",
       "\n",
       "                 Urban100  \n",
       "0             img_006.png  \n",
       "1      img_012_rdn_x4.png  \n",
       "2  img_070_bicubic_x4.png  \n",
       "3      img_031_rdn_x4.png  \n",
       "4             img_078.png  "
      ]
     },
     "execution_count": 9,
     "metadata": {},
     "output_type": "execute_result"
    }
   ],
   "source": [
    "pd.DataFrame(five_up)"
   ]
  },
  {
   "cell_type": "code",
   "execution_count": 10,
   "metadata": {},
   "outputs": [],
   "source": [
    "### get best model \n",
    "log_name = \"base-sdg.log\"\n",
    "train_log = open(\"../rdn-results/logs/\" + log_name)\n",
    "k = 0\n",
    "train_log_arr = []\n",
    "for i in train_log.read().split(\"\\n\"):\n",
    "    if i:\n",
    "        train_log_arr.append((k, float(i.split(\":\")[1])))\n",
    "        k+=1\n",
    "\n",
    "train_log_arr_sorted = sorted(train_log_arr, reverse=True, key=lambda x: x[1])"
   ]
  },
  {
   "cell_type": "code",
   "execution_count": 11,
   "metadata": {},
   "outputs": [
    {
     "data": {
      "text/plain": [
       "296"
      ]
     },
     "execution_count": 11,
     "metadata": {},
     "output_type": "execute_result"
    }
   ],
   "source": [
    "best_epoch = train_log_arr_sorted[0][0]\n",
    "best_epoch"
   ]
  },
  {
   "cell_type": "code",
   "execution_count": 12,
   "metadata": {},
   "outputs": [],
   "source": [
    "# display learning chart "
   ]
  },
  {
   "cell_type": "code",
   "execution_count": 13,
   "metadata": {},
   "outputs": [],
   "source": [
    "def create_dict_from_train_log(arr):\n",
    "   \n",
    "    return {\"eval psnr\": float(arr[1])}\n",
    "    "
   ]
  },
  {
   "cell_type": "code",
   "execution_count": 14,
   "metadata": {},
   "outputs": [],
   "source": [
    "def process_train_loss_line(line):\n",
    "    loss_arr = line.split(\"[\")[-1].split(\", \")[-1].replace(\"]\", \"\").split(\"=\")\n",
    "    epoch = line.split(\":\")[1].split(\"/\")[0]\n",
    "    \n",
    "    return {\"epoch\" : epoch, loss_arr[0] : float(loss_arr[1])}\n",
    "    \n",
    "    "
   ]
  },
  {
   "cell_type": "markdown",
   "metadata": {},
   "source": [
    "### parse the training log copied from std output during training "
   ]
  },
  {
   "cell_type": "code",
   "execution_count": 15,
   "metadata": {},
   "outputs": [
    {
     "data": {
      "text/html": [
       "<div>\n",
       "<style scoped>\n",
       "    .dataframe tbody tr th:only-of-type {\n",
       "        vertical-align: middle;\n",
       "    }\n",
       "\n",
       "    .dataframe tbody tr th {\n",
       "        vertical-align: top;\n",
       "    }\n",
       "\n",
       "    .dataframe thead th {\n",
       "        text-align: right;\n",
       "    }\n",
       "</style>\n",
       "<table border=\"1\" class=\"dataframe\">\n",
       "  <thead>\n",
       "    <tr style=\"text-align: right;\">\n",
       "      <th></th>\n",
       "      <th>epoch</th>\n",
       "      <th>loss</th>\n",
       "    </tr>\n",
       "  </thead>\n",
       "  <tbody>\n",
       "    <tr>\n",
       "      <th>0</th>\n",
       "      <td>0</td>\n",
       "      <td>0.416275</td>\n",
       "    </tr>\n",
       "    <tr>\n",
       "      <th>1</th>\n",
       "      <td>1</td>\n",
       "      <td>0.402584</td>\n",
       "    </tr>\n",
       "    <tr>\n",
       "      <th>2</th>\n",
       "      <td>2</td>\n",
       "      <td>0.390440</td>\n",
       "    </tr>\n",
       "    <tr>\n",
       "      <th>3</th>\n",
       "      <td>3</td>\n",
       "      <td>0.373659</td>\n",
       "    </tr>\n",
       "    <tr>\n",
       "      <th>4</th>\n",
       "      <td>4</td>\n",
       "      <td>0.356863</td>\n",
       "    </tr>\n",
       "  </tbody>\n",
       "</table>\n",
       "</div>"
      ],
      "text/plain": [
       "  epoch      loss\n",
       "0     0  0.416275\n",
       "1     1  0.402584\n",
       "2     2  0.390440\n",
       "3     3  0.373659\n",
       "4     4  0.356863"
      ]
     },
     "execution_count": 15,
     "metadata": {},
     "output_type": "execute_result"
    }
   ],
   "source": [
    "train_log_loss = open(\"../rdn-results/logs/train-loss.log\")\n",
    "train_log_loss_arr = [process_train_loss_line(i) for i in train_log_loss.read().split(\"\\n\") if \"epoch\" in i]\n",
    "df_train_loss = pd.DataFrame(train_log_loss_arr)\n",
    "df_train_loss.head()"
   ]
  },
  {
   "cell_type": "code",
   "execution_count": 16,
   "metadata": {
    "scrolled": true
   },
   "outputs": [
    {
     "data": {
      "text/plain": [
       "<matplotlib.axes._subplots.AxesSubplot at 0x7f0451b45ef0>"
      ]
     },
     "execution_count": 16,
     "metadata": {},
     "output_type": "execute_result"
    }
   ],
   "source": [
    "df_train_loss[\"loss\"].plot(figsize=(15, 5))"
   ]
  },
  {
   "cell_type": "code",
   "execution_count": 17,
   "metadata": {},
   "outputs": [],
   "source": [
    "train_log_dicts = [ create_dict_from_train_log(i) for i in train_log_arr[:-1]]"
   ]
  },
  {
   "cell_type": "code",
   "execution_count": 18,
   "metadata": {
    "scrolled": true
   },
   "outputs": [
    {
     "data": {
      "text/html": [
       "<div>\n",
       "<style scoped>\n",
       "    .dataframe tbody tr th:only-of-type {\n",
       "        vertical-align: middle;\n",
       "    }\n",
       "\n",
       "    .dataframe tbody tr th {\n",
       "        vertical-align: top;\n",
       "    }\n",
       "\n",
       "    .dataframe thead th {\n",
       "        text-align: right;\n",
       "    }\n",
       "</style>\n",
       "<table border=\"1\" class=\"dataframe\">\n",
       "  <thead>\n",
       "    <tr style=\"text-align: right;\">\n",
       "      <th></th>\n",
       "      <th>eval psnr</th>\n",
       "    </tr>\n",
       "  </thead>\n",
       "  <tbody>\n",
       "    <tr>\n",
       "      <th>0</th>\n",
       "      <td>9.02</td>\n",
       "    </tr>\n",
       "    <tr>\n",
       "      <th>1</th>\n",
       "      <td>9.27</td>\n",
       "    </tr>\n",
       "    <tr>\n",
       "      <th>2</th>\n",
       "      <td>9.55</td>\n",
       "    </tr>\n",
       "    <tr>\n",
       "      <th>3</th>\n",
       "      <td>9.87</td>\n",
       "    </tr>\n",
       "    <tr>\n",
       "      <th>4</th>\n",
       "      <td>10.23</td>\n",
       "    </tr>\n",
       "  </tbody>\n",
       "</table>\n",
       "</div>"
      ],
      "text/plain": [
       "   eval psnr\n",
       "0       9.02\n",
       "1       9.27\n",
       "2       9.55\n",
       "3       9.87\n",
       "4      10.23"
      ]
     },
     "execution_count": 18,
     "metadata": {},
     "output_type": "execute_result"
    }
   ],
   "source": [
    "train_df = pd.DataFrame(train_log_dicts)\n",
    "train_df.head()"
   ]
  },
  {
   "cell_type": "markdown",
   "metadata": {},
   "source": [
    "### progression of psnr across epochs"
   ]
  },
  {
   "cell_type": "code",
   "execution_count": 19,
   "metadata": {},
   "outputs": [
    {
     "data": {
      "text/plain": [
       "<matplotlib.axes._subplots.AxesSubplot at 0x7f0451010b38>"
      ]
     },
     "execution_count": 19,
     "metadata": {},
     "output_type": "execute_result"
    },
    {
     "data": {
      "image/png": "[encoded data removed]",
      "text/plain": [
       "<matplotlib.figure.Figure at 0x7f04510104e0>"
      ]
     },
     "metadata": {},
     "output_type": "display_data"
    }
   ],
   "source": [
    "train_df.plot(figsize=(15, 5))"
   ]
  },
  {
   "cell_type": "code",
   "execution_count": 20,
   "metadata": {},
   "outputs": [
    {
     "data": {
      "text/plain": [
       "(True, '../rdn-results/outputs/x4/epoch_289.pth')"
      ]
     },
     "execution_count": 20,
     "metadata": {},
     "output_type": "execute_result"
    }
   ],
   "source": [
    "weights_file = models_dir + \"best.pth\"\n",
    "\n",
    "if not os.path.isfile(weights_file):\n",
    "    weights_file = models_dir + \"epoch_{}.pth\".format(best_epoch - best_epoch%10 - 1)\n",
    "\n",
    "os.path.isfile(weights_file), weights_file"
   ]
  },
  {
   "cell_type": "code",
   "execution_count": 21,
   "metadata": {},
   "outputs": [
    {
     "name": "stdout",
     "output_type": "stream",
     "text": [
      "testing BSDS100\n",
      "testing Set5\n",
      "testing Set14\n",
      "testing Urban100\n"
     ]
    }
   ],
   "source": [
    "test_results = []\n",
    "if os.path.isfile(weights_file):\n",
    "    for key in test_images.keys():\n",
    "        max_images = 0\n",
    "        print (\"testing \" + key)\n",
    "        for image in test_images[key]:\n",
    "            if not (\"_rdn_x4\" in image or \"_bicubic_x\" in image):\n",
    "                image_file = \"../\" + key + \"/\" + image\n",
    "                test_results.append(test(weights_file, image_file))\n",
    "                max_images += 1\n",
    "            "
   ]
  },
  {
   "cell_type": "code",
   "execution_count": 2,
   "metadata": {},
   "outputs": [],
   "source": [
    "def get_test_report(array_of_dicts, dataset):\n",
    "    this_arr = [i for i in array_of_dicts if dataset == i[\"test_set\"] ]\n",
    "    return pd.DataFrame(this_arr)"
   ]
  },
  {
   "cell_type": "code",
   "execution_count": 9,
   "metadata": {},
   "outputs": [
    {
     "data": {
      "text/plain": [
       "[{'psnr': 20.542659759521484, 'test_set': 'BSDS100'},\n",
       " {'psnr': 21.180112838745117, 'test_set': 'BSDS100'},\n",
       " {'psnr': 19.256229400634766, 'test_set': 'BSDS100'},\n",
       " {'psnr': 21.391143798828125, 'test_set': 'BSDS100'},\n",
       " {'psnr': 24.380939483642578, 'test_set': 'BSDS100'},\n",
       " {'psnr': 26.94746208190918, 'test_set': 'BSDS100'},\n",
       " {'psnr': 24.2758731842041, 'test_set': 'BSDS100'},\n",
       " {'psnr': 26.09122085571289, 'test_set': 'BSDS100'},\n",
       " {'psnr': 23.731393814086914, 'test_set': 'BSDS100'},\n",
       " {'psnr': 22.071535110473633, 'test_set': 'BSDS100'},\n",
       " {'psnr': 31.66015625, 'test_set': 'BSDS100'},\n",
       " {'psnr': 18.940027236938477, 'test_set': 'BSDS100'},\n",
       " {'psnr': 25.909713745117188, 'test_set': 'BSDS100'},\n",
       " {'psnr': 27.858741760253906, 'test_set': 'BSDS100'},\n",
       " {'psnr': 25.20849609375, 'test_set': 'BSDS100'},\n",
       " {'psnr': 20.568864822387695, 'test_set': 'BSDS100'},\n",
       " {'psnr': 22.26462173461914, 'test_set': 'BSDS100'},\n",
       " {'psnr': 22.996976852416992, 'test_set': 'BSDS100'},\n",
       " {'psnr': 20.251209259033203, 'test_set': 'BSDS100'},\n",
       " {'psnr': 24.5267276763916, 'test_set': 'BSDS100'},\n",
       " {'psnr': 24.031383514404297, 'test_set': 'BSDS100'},\n",
       " {'psnr': 19.249404907226562, 'test_set': 'BSDS100'},\n",
       " {'psnr': 24.38570213317871, 'test_set': 'BSDS100'},\n",
       " {'psnr': 23.297779083251953, 'test_set': 'BSDS100'},\n",
       " {'psnr': 23.38500213623047, 'test_set': 'BSDS100'},\n",
       " {'psnr': 29.10004425048828, 'test_set': 'BSDS100'},\n",
       " {'psnr': 22.424753189086914, 'test_set': 'BSDS100'},\n",
       " {'psnr': 23.356727600097656, 'test_set': 'BSDS100'},\n",
       " {'psnr': 28.67999839782715, 'test_set': 'BSDS100'},\n",
       " {'psnr': 30.171249389648438, 'test_set': 'BSDS100'},\n",
       " {'psnr': 24.41808319091797, 'test_set': 'BSDS100'},\n",
       " {'psnr': 29.638381958007812, 'test_set': 'BSDS100'},\n",
       " {'psnr': 26.550100326538086, 'test_set': 'BSDS100'},\n",
       " {'psnr': 22.764862060546875, 'test_set': 'BSDS100'},\n",
       " {'psnr': 21.806737899780273, 'test_set': 'BSDS100'},\n",
       " {'psnr': 26.871639251708984, 'test_set': 'BSDS100'},\n",
       " {'psnr': 23.867755889892578, 'test_set': 'BSDS100'},\n",
       " {'psnr': 20.941164016723633, 'test_set': 'BSDS100'},\n",
       " {'psnr': 20.360000610351562, 'test_set': 'BSDS100'},\n",
       " {'psnr': 28.450180053710938, 'test_set': 'BSDS100'},\n",
       " {'psnr': 23.50418472290039, 'test_set': 'BSDS100'},\n",
       " {'psnr': 21.632692337036133, 'test_set': 'BSDS100'},\n",
       " {'psnr': 26.433578491210938, 'test_set': 'BSDS100'},\n",
       " {'psnr': 29.90468978881836, 'test_set': 'BSDS100'},\n",
       " {'psnr': 25.745132446289062, 'test_set': 'BSDS100'},\n",
       " {'psnr': 28.326139450073242, 'test_set': 'BSDS100'},\n",
       " {'psnr': 23.640026092529297, 'test_set': 'BSDS100'},\n",
       " {'psnr': 24.349472045898438, 'test_set': 'BSDS100'},\n",
       " {'psnr': 23.07137680053711, 'test_set': 'BSDS100'},\n",
       " {'psnr': 25.822275161743164, 'test_set': 'BSDS100'},\n",
       " {'psnr': 23.666950225830078, 'test_set': 'BSDS100'},\n",
       " {'psnr': 22.707300186157227, 'test_set': 'BSDS100'},\n",
       " {'psnr': 22.005168914794922, 'test_set': 'BSDS100'},\n",
       " {'psnr': 23.24083137512207, 'test_set': 'BSDS100'},\n",
       " {'psnr': 27.16791534423828, 'test_set': 'BSDS100'},\n",
       " {'psnr': 23.625333786010742, 'test_set': 'BSDS100'},\n",
       " {'psnr': 21.69196319580078, 'test_set': 'BSDS100'},\n",
       " {'psnr': 23.989755630493164, 'test_set': 'BSDS100'},\n",
       " {'psnr': 23.980485916137695, 'test_set': 'BSDS100'},\n",
       " {'psnr': 22.416303634643555, 'test_set': 'BSDS100'},\n",
       " {'psnr': 23.449790954589844, 'test_set': 'BSDS100'},\n",
       " {'psnr': 27.22242546081543, 'test_set': 'BSDS100'},\n",
       " {'psnr': 25.404691696166992, 'test_set': 'BSDS100'},\n",
       " {'psnr': 26.43825912475586, 'test_set': 'BSDS100'},\n",
       " {'psnr': 22.166521072387695, 'test_set': 'BSDS100'},\n",
       " {'psnr': 28.195398330688477, 'test_set': 'BSDS100'},\n",
       " {'psnr': 28.65473747253418, 'test_set': 'BSDS100'},\n",
       " {'psnr': 26.842973709106445, 'test_set': 'BSDS100'},\n",
       " {'psnr': 23.42086410522461, 'test_set': 'BSDS100'},\n",
       " {'psnr': 32.529212951660156, 'test_set': 'BSDS100'},\n",
       " {'psnr': 22.521343231201172, 'test_set': 'BSDS100'},\n",
       " {'psnr': 23.57227325439453, 'test_set': 'BSDS100'},\n",
       " {'psnr': 27.82017707824707, 'test_set': 'BSDS100'},\n",
       " {'psnr': 24.15789794921875, 'test_set': 'BSDS100'},\n",
       " {'psnr': 25.778907775878906, 'test_set': 'BSDS100'},\n",
       " {'psnr': 25.72309684753418, 'test_set': 'BSDS100'},\n",
       " {'psnr': 26.652706146240234, 'test_set': 'BSDS100'},\n",
       " {'psnr': 24.051551818847656, 'test_set': 'BSDS100'},\n",
       " {'psnr': 25.320775985717773, 'test_set': 'BSDS100'},\n",
       " {'psnr': 25.229347229003906, 'test_set': 'BSDS100'},\n",
       " {'psnr': 22.8950138092041, 'test_set': 'BSDS100'},\n",
       " {'psnr': 22.887285232543945, 'test_set': 'BSDS100'},\n",
       " {'psnr': 20.452125549316406, 'test_set': 'BSDS100'},\n",
       " {'psnr': 21.65459632873535, 'test_set': 'BSDS100'},\n",
       " {'psnr': 22.392059326171875, 'test_set': 'BSDS100'},\n",
       " {'psnr': 26.053119659423828, 'test_set': 'BSDS100'},\n",
       " {'psnr': 25.563478469848633, 'test_set': 'BSDS100'},\n",
       " {'psnr': 19.577238082885742, 'test_set': 'BSDS100'},\n",
       " {'psnr': 24.64902687072754, 'test_set': 'BSDS100'},\n",
       " {'psnr': 30.291873931884766, 'test_set': 'BSDS100'},\n",
       " {'psnr': 27.34098243713379, 'test_set': 'BSDS100'},\n",
       " {'psnr': 26.342065811157227, 'test_set': 'BSDS100'},\n",
       " {'psnr': 21.402597427368164, 'test_set': 'BSDS100'},\n",
       " {'psnr': 22.617515563964844, 'test_set': 'BSDS100'},\n",
       " {'psnr': 23.885534286499023, 'test_set': 'BSDS100'},\n",
       " {'psnr': 20.935821533203125, 'test_set': 'BSDS100'},\n",
       " {'psnr': 23.300249099731445, 'test_set': 'BSDS100'},\n",
       " {'psnr': 27.735414505004883, 'test_set': 'BSDS100'},\n",
       " {'psnr': 22.972593307495117, 'test_set': 'BSDS100'},\n",
       " {'psnr': 22.14452362060547, 'test_set': 'BSDS100'},\n",
       " {'psnr': 23.973594665527344, 'test_set': 'Set5'},\n",
       " {'psnr': 28.170595169067383, 'test_set': 'Set5'},\n",
       " {'psnr': 27.11970329284668, 'test_set': 'Set5'},\n",
       " {'psnr': 18.61055564880371, 'test_set': 'Set5'},\n",
       " {'psnr': 23.23394012451172, 'test_set': 'Set5'},\n",
       " {'psnr': 23.644941329956055, 'test_set': 'Set14'},\n",
       " {'psnr': 20.097843170166016, 'test_set': 'Set14'},\n",
       " {'psnr': 26.54613494873047, 'test_set': 'Set14'},\n",
       " {'psnr': 22.42239761352539, 'test_set': 'Set14'},\n",
       " {'psnr': 20.02310562133789, 'test_set': 'Set14'},\n",
       " {'psnr': 20.186397552490234, 'test_set': 'Set14'},\n",
       " {'psnr': 23.808452606201172, 'test_set': 'Set14'},\n",
       " {'psnr': 20.98665428161621, 'test_set': 'Set14'},\n",
       " {'psnr': 23.32971954345703, 'test_set': 'Set14'},\n",
       " {'psnr': 22.95330047607422, 'test_set': 'Set14'},\n",
       " {'psnr': 23.322534561157227, 'test_set': 'Set14'},\n",
       " {'psnr': 24.330520629882812, 'test_set': 'Set14'},\n",
       " {'psnr': 24.135082244873047, 'test_set': 'Set14'},\n",
       " {'psnr': 27.125595092773438, 'test_set': 'Set14'},\n",
       " {'psnr': 19.332063674926758, 'test_set': 'Urban100'},\n",
       " {'psnr': 24.00373649597168, 'test_set': 'Urban100'},\n",
       " {'psnr': 14.583412170410156, 'test_set': 'Urban100'},\n",
       " {'psnr': 19.664697647094727, 'test_set': 'Urban100'},\n",
       " {'psnr': 21.282211303710938, 'test_set': 'Urban100'},\n",
       " {'psnr': 24.117435455322266, 'test_set': 'Urban100'},\n",
       " {'psnr': 21.260177612304688, 'test_set': 'Urban100'},\n",
       " {'psnr': 21.91969871520996, 'test_set': 'Urban100'},\n",
       " {'psnr': 22.750919342041016, 'test_set': 'Urban100'},\n",
       " {'psnr': 22.477386474609375, 'test_set': 'Urban100'},\n",
       " {'psnr': 20.037769317626953, 'test_set': 'Urban100'},\n",
       " {'psnr': 23.945331573486328, 'test_set': 'Urban100'},\n",
       " {'psnr': 20.773181915283203, 'test_set': 'Urban100'},\n",
       " {'psnr': 20.55756378173828, 'test_set': 'Urban100'},\n",
       " {'psnr': 19.70076560974121, 'test_set': 'Urban100'},\n",
       " {'psnr': 17.994531631469727, 'test_set': 'Urban100'},\n",
       " {'psnr': 19.071205139160156, 'test_set': 'Urban100'},\n",
       " {'psnr': 23.695161819458008, 'test_set': 'Urban100'},\n",
       " {'psnr': 15.38308048248291, 'test_set': 'Urban100'},\n",
       " {'psnr': 18.68332862854004, 'test_set': 'Urban100'},\n",
       " {'psnr': 21.278953552246094, 'test_set': 'Urban100'},\n",
       " {'psnr': 21.17374038696289, 'test_set': 'Urban100'},\n",
       " {'psnr': 19.830245971679688, 'test_set': 'Urban100'},\n",
       " {'psnr': 21.45087242126465, 'test_set': 'Urban100'},\n",
       " {'psnr': 30.343631744384766, 'test_set': 'Urban100'},\n",
       " {'psnr': 18.930604934692383, 'test_set': 'Urban100'},\n",
       " {'psnr': 24.517433166503906, 'test_set': 'Urban100'},\n",
       " {'psnr': 23.017013549804688, 'test_set': 'Urban100'},\n",
       " {'psnr': 19.254581451416016, 'test_set': 'Urban100'},\n",
       " {'psnr': 17.288049697875977, 'test_set': 'Urban100'},\n",
       " {'psnr': 23.410778045654297, 'test_set': 'Urban100'},\n",
       " {'psnr': 25.198471069335938, 'test_set': 'Urban100'},\n",
       " {'psnr': 19.06949234008789, 'test_set': 'Urban100'},\n",
       " {'psnr': 18.3752498626709, 'test_set': 'Urban100'},\n",
       " {'psnr': 21.869396209716797, 'test_set': 'Urban100'},\n",
       " {'psnr': 19.98223114013672, 'test_set': 'Urban100'},\n",
       " {'psnr': 18.787012100219727, 'test_set': 'Urban100'},\n",
       " {'psnr': 17.266557693481445, 'test_set': 'Urban100'},\n",
       " {'psnr': 21.153650283813477, 'test_set': 'Urban100'},\n",
       " {'psnr': 22.88880157470703, 'test_set': 'Urban100'},\n",
       " {'psnr': 22.389726638793945, 'test_set': 'Urban100'},\n",
       " {'psnr': 18.4173641204834, 'test_set': 'Urban100'},\n",
       " {'psnr': 25.57436180114746, 'test_set': 'Urban100'},\n",
       " {'psnr': 18.674335479736328, 'test_set': 'Urban100'},\n",
       " {'psnr': 23.72102928161621, 'test_set': 'Urban100'},\n",
       " {'psnr': 22.859294891357422, 'test_set': 'Urban100'},\n",
       " {'psnr': 22.590856552124023, 'test_set': 'Urban100'},\n",
       " {'psnr': 20.204139709472656, 'test_set': 'Urban100'},\n",
       " {'psnr': 25.148799896240234, 'test_set': 'Urban100'},\n",
       " {'psnr': 14.724081993103027, 'test_set': 'Urban100'},\n",
       " {'psnr': 20.385149002075195, 'test_set': 'Urban100'},\n",
       " {'psnr': 15.816312789916992, 'test_set': 'Urban100'},\n",
       " {'psnr': 27.745445251464844, 'test_set': 'Urban100'},\n",
       " {'psnr': 18.667102813720703, 'test_set': 'Urban100'},\n",
       " {'psnr': 20.21660614013672, 'test_set': 'Urban100'},\n",
       " {'psnr': 25.253141403198242, 'test_set': 'Urban100'},\n",
       " {'psnr': 16.34414291381836, 'test_set': 'Urban100'},\n",
       " {'psnr': 26.570453643798828, 'test_set': 'Urban100'},\n",
       " {'psnr': 23.994457244873047, 'test_set': 'Urban100'},\n",
       " {'psnr': 20.392974853515625, 'test_set': 'Urban100'},\n",
       " {'psnr': 20.506507873535156, 'test_set': 'Urban100'},\n",
       " {'psnr': 18.785049438476562, 'test_set': 'Urban100'},\n",
       " {'psnr': 22.04315185546875, 'test_set': 'Urban100'},\n",
       " {'psnr': 21.34239959716797, 'test_set': 'Urban100'},\n",
       " {'psnr': 23.853919982910156, 'test_set': 'Urban100'},\n",
       " {'psnr': 20.221637725830078, 'test_set': 'Urban100'},\n",
       " {'psnr': 24.326303482055664, 'test_set': 'Urban100'},\n",
       " {'psnr': 24.630136489868164, 'test_set': 'Urban100'},\n",
       " {'psnr': 18.353727340698242, 'test_set': 'Urban100'},\n",
       " {'psnr': 22.86555290222168, 'test_set': 'Urban100'},\n",
       " {'psnr': 19.26152992248535, 'test_set': 'Urban100'},\n",
       " {'psnr': 21.617656707763672, 'test_set': 'Urban100'},\n",
       " {'psnr': 24.62120819091797, 'test_set': 'Urban100'},\n",
       " {'psnr': 21.137065887451172, 'test_set': 'Urban100'},\n",
       " {'psnr': 22.016666412353516, 'test_set': 'Urban100'},\n",
       " {'psnr': 16.896190643310547, 'test_set': 'Urban100'},\n",
       " {'psnr': 22.149208068847656, 'test_set': 'Urban100'},\n",
       " {'psnr': 23.58368682861328, 'test_set': 'Urban100'},\n",
       " {'psnr': 21.168842315673828, 'test_set': 'Urban100'},\n",
       " {'psnr': 23.67011260986328, 'test_set': 'Urban100'},\n",
       " {'psnr': 23.592559814453125, 'test_set': 'Urban100'},\n",
       " {'psnr': 21.783445358276367, 'test_set': 'Urban100'},\n",
       " {'psnr': 16.76937484741211, 'test_set': 'Urban100'},\n",
       " {'psnr': 28.680496215820312, 'test_set': 'Urban100'},\n",
       " {'psnr': 20.791805267333984, 'test_set': 'Urban100'},\n",
       " {'psnr': 23.439697265625, 'test_set': 'Urban100'},\n",
       " {'psnr': 22.642305374145508, 'test_set': 'Urban100'},\n",
       " {'psnr': 22.39404296875, 'test_set': 'Urban100'},\n",
       " {'psnr': 17.508934020996094, 'test_set': 'Urban100'},\n",
       " {'psnr': 20.719755172729492, 'test_set': 'Urban100'},\n",
       " {'psnr': 22.30389404296875, 'test_set': 'Urban100'},\n",
       " {'psnr': 24.37342071533203, 'test_set': 'Urban100'},\n",
       " {'psnr': 19.90496063232422, 'test_set': 'Urban100'},\n",
       " {'psnr': 20.984146118164062, 'test_set': 'Urban100'},\n",
       " {'psnr': 22.810699462890625, 'test_set': 'Urban100'},\n",
       " {'psnr': 19.83665657043457, 'test_set': 'Urban100'},\n",
       " {'psnr': 23.013517379760742, 'test_set': 'Urban100'},\n",
       " {'psnr': 18.778526306152344, 'test_set': 'Urban100'},\n",
       " {'psnr': 22.822877883911133, 'test_set': 'Urban100'},\n",
       " {'psnr': 21.781770706176758, 'test_set': 'Urban100'}]"
      ]
     },
     "execution_count": 9,
     "metadata": {},
     "output_type": "execute_result"
    }
   ],
   "source": [
    "import json \n",
    "\n",
    "with open(\"../rdn-results/logs/test-results.json\", mode='r', encoding='utf-8') as f:\n",
    "    test_results = json.load(f)\n",
    "    \n",
    "test_results\n"
   ]
  },
  {
   "cell_type": "code",
   "execution_count": 10,
   "metadata": {},
   "outputs": [],
   "source": [
    "stats_BSDS100 = get_test_report(test_results, \"BSDS100\")"
   ]
  },
  {
   "cell_type": "code",
   "execution_count": 12,
   "metadata": {},
   "outputs": [
    {
     "data": {
      "text/html": [
       "<div>\n",
       "<style scoped>\n",
       "    .dataframe tbody tr th:only-of-type {\n",
       "        vertical-align: middle;\n",
       "    }\n",
       "\n",
       "    .dataframe tbody tr th {\n",
       "        vertical-align: top;\n",
       "    }\n",
       "\n",
       "    .dataframe thead th {\n",
       "        text-align: right;\n",
       "    }\n",
       "</style>\n",
       "<table border=\"1\" class=\"dataframe\">\n",
       "  <thead>\n",
       "    <tr style=\"text-align: right;\">\n",
       "      <th></th>\n",
       "      <th>count</th>\n",
       "      <th>mean</th>\n",
       "      <th>std</th>\n",
       "      <th>min</th>\n",
       "      <th>25%</th>\n",
       "      <th>50%</th>\n",
       "      <th>75%</th>\n",
       "      <th>max</th>\n",
       "    </tr>\n",
       "  </thead>\n",
       "  <tbody>\n",
       "    <tr>\n",
       "      <th>psnr</th>\n",
       "      <td>100.0</td>\n",
       "      <td>24.409727</td>\n",
       "      <td>2.856627</td>\n",
       "      <td>18.940027</td>\n",
       "      <td>22.422641</td>\n",
       "      <td>23.93301</td>\n",
       "      <td>26.364944</td>\n",
       "      <td>32.529213</td>\n",
       "    </tr>\n",
       "  </tbody>\n",
       "</table>\n",
       "</div>"
      ],
      "text/plain": [
       "      count       mean       std        min        25%       50%        75%  \\\n",
       "psnr  100.0  24.409727  2.856627  18.940027  22.422641  23.93301  26.364944   \n",
       "\n",
       "            max  \n",
       "psnr  32.529213  "
      ]
     },
     "execution_count": 12,
     "metadata": {},
     "output_type": "execute_result"
    }
   ],
   "source": [
    "stats_BSDS100.describe().transpose()"
   ]
  },
  {
   "cell_type": "code",
   "execution_count": 26,
   "metadata": {},
   "outputs": [
    {
     "data": {
      "text/plain": [
       "<matplotlib.axes._subplots.AxesSubplot at 0x7f0450f107b8>"
      ]
     },
     "execution_count": 26,
     "metadata": {},
     "output_type": "execute_result"
    },
    {
     "data": {
      "image/png": "[encoded data removed]",
      "text/plain": [
       "<matplotlib.figure.Figure at 0x7f0450f10be0>"
      ]
     },
     "metadata": {},
     "output_type": "display_data"
    }
   ],
   "source": [
    "stats_BSDS100.plot.bar(figsize=(20,5))"
   ]
  },
  {
   "cell_type": "code",
   "execution_count": 13,
   "metadata": {},
   "outputs": [
    {
     "data": {
      "text/html": [
       "<div>\n",
       "<style scoped>\n",
       "    .dataframe tbody tr th:only-of-type {\n",
       "        vertical-align: middle;\n",
       "    }\n",
       "\n",
       "    .dataframe tbody tr th {\n",
       "        vertical-align: top;\n",
       "    }\n",
       "\n",
       "    .dataframe thead th {\n",
       "        text-align: right;\n",
       "    }\n",
       "</style>\n",
       "<table border=\"1\" class=\"dataframe\">\n",
       "  <thead>\n",
       "    <tr style=\"text-align: right;\">\n",
       "      <th></th>\n",
       "      <th>count</th>\n",
       "      <th>mean</th>\n",
       "      <th>std</th>\n",
       "      <th>min</th>\n",
       "      <th>25%</th>\n",
       "      <th>50%</th>\n",
       "      <th>75%</th>\n",
       "      <th>max</th>\n",
       "    </tr>\n",
       "  </thead>\n",
       "  <tbody>\n",
       "    <tr>\n",
       "      <th>psnr</th>\n",
       "      <td>5.0</td>\n",
       "      <td>24.221678</td>\n",
       "      <td>3.758802</td>\n",
       "      <td>18.610556</td>\n",
       "      <td>23.23394</td>\n",
       "      <td>23.973595</td>\n",
       "      <td>27.119703</td>\n",
       "      <td>28.170595</td>\n",
       "    </tr>\n",
       "  </tbody>\n",
       "</table>\n",
       "</div>"
      ],
      "text/plain": [
       "      count       mean       std        min       25%        50%        75%  \\\n",
       "psnr    5.0  24.221678  3.758802  18.610556  23.23394  23.973595  27.119703   \n",
       "\n",
       "            max  \n",
       "psnr  28.170595  "
      ]
     },
     "execution_count": 13,
     "metadata": {},
     "output_type": "execute_result"
    }
   ],
   "source": [
    "stats_Set5 = get_test_report(test_results, \"Set5\")\n",
    "stats_Set5.describe().transpose()"
   ]
  },
  {
   "cell_type": "code",
   "execution_count": 28,
   "metadata": {},
   "outputs": [
    {
     "data": {
      "text/plain": [
       "<matplotlib.axes._subplots.AxesSubplot at 0x7eff671767b8>"
      ]
     },
     "execution_count": 28,
     "metadata": {},
     "output_type": "execute_result"
    },
    {
     "data": {
      "image/png": "[encoded data removed]",
      "text/plain": [
       "<matplotlib.figure.Figure at 0x7eff67187320>"
      ]
     },
     "metadata": {},
     "output_type": "display_data"
    }
   ],
   "source": [
    "stats_Set5.plot.bar(figsize = (15,5))"
   ]
  },
  {
   "cell_type": "code",
   "execution_count": 14,
   "metadata": {},
   "outputs": [
    {
     "data": {
      "text/html": [
       "<div>\n",
       "<style scoped>\n",
       "    .dataframe tbody tr th:only-of-type {\n",
       "        vertical-align: middle;\n",
       "    }\n",
       "\n",
       "    .dataframe tbody tr th {\n",
       "        vertical-align: top;\n",
       "    }\n",
       "\n",
       "    .dataframe thead th {\n",
       "        text-align: right;\n",
       "    }\n",
       "</style>\n",
       "<table border=\"1\" class=\"dataframe\">\n",
       "  <thead>\n",
       "    <tr style=\"text-align: right;\">\n",
       "      <th></th>\n",
       "      <th>count</th>\n",
       "      <th>mean</th>\n",
       "      <th>std</th>\n",
       "      <th>min</th>\n",
       "      <th>25%</th>\n",
       "      <th>50%</th>\n",
       "      <th>75%</th>\n",
       "      <th>max</th>\n",
       "    </tr>\n",
       "  </thead>\n",
       "  <tbody>\n",
       "    <tr>\n",
       "      <th>psnr</th>\n",
       "      <td>14.0</td>\n",
       "      <td>23.065191</td>\n",
       "      <td>2.209546</td>\n",
       "      <td>20.023106</td>\n",
       "      <td>21.34559</td>\n",
       "      <td>23.326127</td>\n",
       "      <td>24.053425</td>\n",
       "      <td>27.125595</td>\n",
       "    </tr>\n",
       "  </tbody>\n",
       "</table>\n",
       "</div>"
      ],
      "text/plain": [
       "      count       mean       std        min       25%        50%        75%  \\\n",
       "psnr   14.0  23.065191  2.209546  20.023106  21.34559  23.326127  24.053425   \n",
       "\n",
       "            max  \n",
       "psnr  27.125595  "
      ]
     },
     "execution_count": 14,
     "metadata": {},
     "output_type": "execute_result"
    }
   ],
   "source": [
    "stats_Set14 = get_test_report(test_results, \"Set14\")\n",
    "stats_Set14.describe().transpose()"
   ]
  },
  {
   "cell_type": "code",
   "execution_count": 30,
   "metadata": {},
   "outputs": [
    {
     "data": {
      "text/plain": [
       "<matplotlib.axes._subplots.AxesSubplot at 0x7eff6710b198>"
      ]
     },
     "execution_count": 30,
     "metadata": {},
     "output_type": "execute_result"
    },
    {
     "data": {
      "image/png": "[encoded data removed]",
      "text/plain": [
       "<matplotlib.figure.Figure at 0x7f0450ee7470>"
      ]
     },
     "metadata": {},
     "output_type": "display_data"
    }
   ],
   "source": [
    "stats_Set14.plot.bar(figsize = (15,5))"
   ]
  },
  {
   "cell_type": "code",
   "execution_count": 15,
   "metadata": {},
   "outputs": [
    {
     "data": {
      "text/html": [
       "<div>\n",
       "<style scoped>\n",
       "    .dataframe tbody tr th:only-of-type {\n",
       "        vertical-align: middle;\n",
       "    }\n",
       "\n",
       "    .dataframe tbody tr th {\n",
       "        vertical-align: top;\n",
       "    }\n",
       "\n",
       "    .dataframe thead th {\n",
       "        text-align: right;\n",
       "    }\n",
       "</style>\n",
       "<table border=\"1\" class=\"dataframe\">\n",
       "  <thead>\n",
       "    <tr style=\"text-align: right;\">\n",
       "      <th></th>\n",
       "      <th>count</th>\n",
       "      <th>mean</th>\n",
       "      <th>std</th>\n",
       "      <th>min</th>\n",
       "      <th>25%</th>\n",
       "      <th>50%</th>\n",
       "      <th>75%</th>\n",
       "      <th>max</th>\n",
       "    </tr>\n",
       "  </thead>\n",
       "  <tbody>\n",
       "    <tr>\n",
       "      <th>psnr</th>\n",
       "      <td>100.0</td>\n",
       "      <td>21.339936</td>\n",
       "      <td>2.869717</td>\n",
       "      <td>14.583412</td>\n",
       "      <td>19.31443</td>\n",
       "      <td>21.280582</td>\n",
       "      <td>23.115455</td>\n",
       "      <td>30.343632</td>\n",
       "    </tr>\n",
       "  </tbody>\n",
       "</table>\n",
       "</div>"
      ],
      "text/plain": [
       "      count       mean       std        min       25%        50%        75%  \\\n",
       "psnr  100.0  21.339936  2.869717  14.583412  19.31443  21.280582  23.115455   \n",
       "\n",
       "            max  \n",
       "psnr  30.343632  "
      ]
     },
     "execution_count": 15,
     "metadata": {},
     "output_type": "execute_result"
    }
   ],
   "source": [
    "stats_Urban100 = get_test_report(test_results, \"Urban100\")\n",
    "stats_Urban100.describe().transpose()"
   ]
  },
  {
   "cell_type": "code",
   "execution_count": 32,
   "metadata": {},
   "outputs": [
    {
     "data": {
      "text/plain": [
       "<matplotlib.axes._subplots.AxesSubplot at 0x7eff6718bbe0>"
      ]
     },
     "execution_count": 32,
     "metadata": {},
     "output_type": "execute_result"
    },
    {
     "data": {
      "image/png": "[encoded data removed]",
      "text/plain": [
       "<matplotlib.figure.Figure at 0x7eff6709f0f0>"
      ]
     },
     "metadata": {},
     "output_type": "display_data"
    }
   ],
   "source": [
    "stats_Urban100.plot.bar(figsize = (15,5))"
   ]
  }
 ],
 "metadata": {
  "kernelspec": {
   "display_name": "Python 3",
   "language": "python",
   "name": "python3"
  },
  "language_info": {
   "codemirror_mode": {
    "name": "ipython",
    "version": 3
   },
   "file_extension": ".py",
   "mimetype": "text/x-python",
   "name": "python",
   "nbconvert_exporter": "python",
   "pygments_lexer": "ipython3",
   "version": "3.6.8"
  }
 },
 "nbformat": 4,
 "nbformat_minor": 2
}
